{
  "nbformat": 4,
  "nbformat_minor": 0,
  "metadata": {
    "colab": {
      "name": "capnet-GAN.ipynb",
      "provenance": [],
      "collapsed_sections": [],
      "authorship_tag": "ABX9TyNPI+JV30CfeLXI0utuz7Xt",
      "include_colab_link": true
    },
    "kernelspec": {
      "name": "python3",
      "display_name": "Python 3"
    },
    "accelerator": "GPU"
  },
  "cells": [
    {
      "cell_type": "markdown",
      "metadata": {
        "id": "view-in-github",
        "colab_type": "text"
      },
      "source": [
        "<a href=\"https://colab.research.google.com/github/rajatha94/capnet-GAN/blob/master/capnet_GAN.ipynb\" target=\"_parent\"><img src=\"https://colab.research.google.com/assets/colab-badge.svg\" alt=\"Open In Colab\"/></a>"
      ]
    },
    {
      "cell_type": "code",
      "metadata": {
        "id": "kSpaQItnKeaJ",
        "colab_type": "code",
        "colab": {
          "base_uri": "https://localhost:8080/",
          "height": 34
        },
        "outputId": "2d3cef91-a548-48b7-dfda-d6b4b8d458a7"
      },
      "source": [
        "import sys\n",
        "import os\n",
        "import glob\n",
        "from tqdm import tqdm\n",
        "\n",
        "from keras import layers, models, optimizers\n",
        "from keras import backend as K\n",
        "from keras import callbacks\n",
        "from keras.utils import to_categorical\n",
        "from keras.layers.convolutional import UpSampling2D, Conv2D\n",
        "from keras.layers import Input, Dense, Flatten, Reshape, Dropout, Lambda, Multiply, Concatenate\n",
        "from keras.layers import BatchNormalization, ZeroPadding2D, Activation\n",
        "from keras.layers.advanced_activations import LeakyReLU\n",
        "from keras.models import Model, Sequential \n",
        "from keras.optimizers import Adam\n",
        "from keras.preprocessing.image import ImageDataGenerator\n",
        "from keras.datasets import mnist\n",
        "import tensorflow as tf\n",
        "from tensorflow.python.client import device_lib\n",
        "import numpy as np\n",
        "\n",
        "import skimage\n",
        "from skimage import data, color, exposure\n",
        "from skimage.transform import resize\n",
        "import matplotlib.pyplot as plot\n",
        "%matplotlib inline\n",
        "\n",
        "realDiscriminatorLoss = []\n",
        "generatedDiscriminatorLoss = []\n",
        "totalDiscriminatorLossandAcc = []\n",
        "generatorLoss = []"
      ],
      "execution_count": 2,
      "outputs": [
        {
          "output_type": "stream",
          "text": [
            "Using TensorFlow backend.\n"
          ],
          "name": "stderr"
        }
      ]
    },
    {
      "cell_type": "code",
      "metadata": {
        "id": "IF18skrEKr8n",
        "colab_type": "code",
        "colab": {}
      },
      "source": [
        "def loadDataset(dataset, width, height, channels):\n",
        "  (x_train, y_train), (x_test, y_test) = mnist.load_data()\n",
        "  x_train = (x_train.astype(np.float32) - 127.5) / 127.5\n",
        "  x_train = np.expand_dims(x_train, axis=3)\n",
        "  img_rows = width\n",
        "  img_cols = height\n",
        "  channels = channels\n",
        "  img_shape = [img_rows, img_cols, channels]\n",
        "  return x_train, img_shape"
      ],
      "execution_count": 0,
      "outputs": []
    },
    {
      "cell_type": "code",
      "metadata": {
        "id": "5Li_TvNa774J",
        "colab_type": "code",
        "colab": {
          "base_uri": "https://localhost:8080/",
          "height": 85
        },
        "outputId": "0278e5f8-5890-4d16-9c09-340c70b0e986"
      },
      "source": [
        "dataset, shape = loadDataset('mnist', 28, 28, 1)\n",
        "print('Dataset: ' + str(dataset.shape))\n",
        "print('Image Data: ' + str(shape))"
      ],
      "execution_count": 4,
      "outputs": [
        {
          "output_type": "stream",
          "text": [
            "Downloading data from https://s3.amazonaws.com/img-datasets/mnist.npz\n",
            "11493376/11490434 [==============================] - 2s 0us/step\n",
            "Dataset: (60000, 28, 28, 1)\n",
            "Image Data: [28, 28, 1]\n"
          ],
          "name": "stdout"
        }
      ]
    },
    {
      "cell_type": "code",
      "metadata": {
        "id": "jx88HOssKyF-",
        "colab_type": "code",
        "colab": {}
      },
      "source": [
        "def squash(vectors, axis=-1):\n",
        "  squaredNorm = K.sum(K.square(vectors), axis, keepdims=True)\n",
        "  scale = squaredNorm / (1 + squaredNorm) / K.sqrt(squaredNorm + K.epsilon())\n",
        "  return scale * vectors"
      ],
      "execution_count": 0,
      "outputs": []
    },
    {
      "cell_type": "code",
      "metadata": {
        "id": "AZP7r_WCK7u6",
        "colab_type": "code",
        "colab": {}
      },
      "source": [
        "# Implementation of Discriminator\n",
        "def buildDiscriminator():\n",
        "  image = Input(shape=(shape[0], shape[1], shape[2]))\n",
        "\n",
        "  # First Conv2D layer\n",
        "  d = Conv2D(filters=256, kernel_size=9, strides=1, padding='valid', name='firstConvLayer')(image)\n",
        "  d = LeakyReLU()(d)\n",
        "  d = BatchNormalization(momentum=0.8)(d)\n",
        "\n",
        "  # Capsule network implementation (Primarycaps and Digitcaps)\n",
        "  # Primarycaps\n",
        "  d = Conv2D(filters=8 * 32, kernel_size=9, strides=2, padding='valid', name='primarycapsConvLayer')(d)\n",
        "  d = Reshape(target_shape=[-1, 8], name='primarycapsReshapeLayer')(d)\n",
        "  d = Lambda(squash, name='primarycapsSquashingFunction')(d)\n",
        "  d = BatchNormalization(momentum=0.8)(d)\n",
        "  # Digitcaps\n",
        "  d = Flatten()(d)\n",
        "  uCap = Dense(160, kernel_initializer='he_normal', bias_initializer='zeros', name='uCapDigitcaps')(d)\n",
        "  couplingCoefficient = Activation('softmax', name='softmaxLayer1')(uCap)\n",
        "  couplingCoefficient = Dense(160)(couplingCoefficient)\n",
        "  x = Multiply()([uCap, couplingCoefficient])\n",
        "  layer1 = LeakyReLU()(x)\n",
        "  couplingCoefficient = Activation('softmax', name='softmaxLayer2')(layer1) \n",
        "  couplingCoefficient = Dense(160)(couplingCoefficient)\n",
        "  x = Multiply()([uCap, couplingCoefficient])\n",
        "  layer2 = LeakyReLU()(x)\n",
        "  couplingCoefficient = Activation('softmax', name='softmaxLayer3')(layer2) \n",
        "  couplingCoefficient = Dense(160)(couplingCoefficient) \n",
        "  x = Multiply()([uCap, couplingCoefficient])\n",
        "  layer3 = LeakyReLU()(x)\n",
        "  pred = Dense(1, activation='sigmoid')(layer3)\n",
        "  return Model(image, pred)"
      ],
      "execution_count": 0,
      "outputs": []
    },
    {
      "cell_type": "code",
      "metadata": {
        "id": "YtXHNIYHLAQR",
        "colab_type": "code",
        "colab": {}
      },
      "source": [
        "discriminator = buildDiscriminator()\n",
        "discriminator.summary()\n",
        "discriminator.compile(loss='binary_crossentropy', optimizer=Adam(0.0002, 0.5), metrics=['accuracy'])"
      ],
      "execution_count": 0,
      "outputs": []
    },
    {
      "cell_type": "code",
      "metadata": {
        "id": "6nDCGER_LCnr",
        "colab_type": "code",
        "colab": {}
      },
      "source": [
        "# Implementation of Generator (Similar to DCGAN Architecture)\n",
        "def buildGenerator():\n",
        "  noise = Input(shape=(100,))\n",
        "  x = Dense(128 * 7 * 7, activation=\"relu\")(noise)\n",
        "  x = Reshape((7, 7, 128))(x)\n",
        "  x = BatchNormalization(momentum=0.8)(x)\n",
        "  x = UpSampling2D()(x)\n",
        "  x = Conv2D(128, kernel_size=3, padding=\"same\")(x)\n",
        "  x = Activation(\"relu\")(x)\n",
        "  x = BatchNormalization(momentum=0.8)(x)\n",
        "  x = UpSampling2D()(x)\n",
        "  x = Conv2D(64, kernel_size=3, padding=\"same\")(x)\n",
        "  x = Activation(\"relu\")(x)\n",
        "  x = BatchNormalization(momentum=0.8)(x)\n",
        "  x = Conv2D(1, kernel_size=3, padding=\"same\")(x)\n",
        "  output = Activation(\"tanh\")(x)\n",
        "  return Model(noise, output)"
      ],
      "execution_count": 0,
      "outputs": []
    },
    {
      "cell_type": "code",
      "metadata": {
        "id": "NE8dhPJULJYk",
        "colab_type": "code",
        "colab": {}
      },
      "source": [
        "generator = buildGenerator()\n",
        "generator.summary()\n",
        "generator.compile(loss='binary_crossentropy', optimizer=Adam(0.0002, 0.5))"
      ],
      "execution_count": 0,
      "outputs": []
    },
    {
      "cell_type": "code",
      "metadata": {
        "id": "UVhU4EN6LMhQ",
        "colab_type": "code",
        "colab": {}
      },
      "source": [
        "# Creating combined model stacking generator and discriminator (used for training generator)\n",
        "# Input random noise for generator\n",
        "noise = Input(shape=(100,))\n",
        "imageGenerated = generator(noise)\n",
        "discriminator.trainable = False\n",
        "# Keeping discriminator static\n",
        "valid = discriminator(imageGenerated)\n",
        "# Noise as input => generates images => determines validity \n",
        "combined = Model(noise, valid)\n",
        "combined.summary()\n",
        "combined.compile(loss='binary_crossentropy', optimizer=Adam(0.0002, 0.5))"
      ],
      "execution_count": 0,
      "outputs": []
    },
    {
      "cell_type": "code",
      "metadata": {
        "id": "l2F1fq9ZLhwP",
        "colab_type": "code",
        "colab": {}
      },
      "source": [
        "def train(epochs, batch_size, interval):\n",
        "\n",
        "  half_batch = int(batch_size / 2)\n",
        "  for epoch in range(epochs):\n",
        "    randomBatch = np.random.randint(0, dataset.shape[0], half_batch)\n",
        "    # Training the Discriminator \n",
        "    realImages = dataset[randomBatch]\n",
        "    disRealLoss = discriminator.train_on_batch(realImages, np.ones((half_batch, 1))*0.85)\n",
        "    realDiscriminatorLoss.append(disRealLoss)\n",
        "\n",
        "    randomNoise = np.random.normal(0, 1, (half_batch, 100))\n",
        "    generatedImages = generator.predict(randomNoise) # generate a half batch of new images\n",
        "    disGenLoss = discriminator.train_on_batch(generatedImages, np.zeros((half_batch, 1)))\n",
        "    generatedDiscriminatorLoss.append(disGenLoss)\n",
        "\n",
        "    totalDisLossAcc = 0.5 * np.add(disRealLoss, disGenLoss)\n",
        "    totalDiscriminatorLossandAcc.append(totalDisLossAcc)\n",
        "\n",
        "    # Training the Generator\n",
        "    noise = np.random.normal(0, 1, (batch_size, 100))\n",
        "    genLoss = combined.train_on_batch(noise, np.ones((batch_size, 1)))\n",
        "    generatorLoss.append(genLoss)\n",
        "\n",
        "    #Progress\n",
        "    print (\"%d [Discriminator loss: %f, Accuracy: %.3f%%] [Generator loss: %f]\" % (epoch, totalDisLossAcc[0], 100*totalDisLossAcc[1], genLoss))\n",
        "\n",
        "    if epoch % interval == 0:\n",
        "      r, c = 5, 5\n",
        "      noise = np.random.normal(0, 1, (r * c, 100))\n",
        "      generatedImages = generator.predict(noise)\n",
        "      generatedImages = 0.5 * generatedImages + 0.5\n",
        "      fig, axis = plot.subplots(r, c)\n",
        "      count = 0\n",
        "      # Creating output images\n",
        "      for i in range(r):\n",
        "        for j in range(c):\n",
        "          axis[i,j].imshow(generatedImages[count, :,:,0], cmap='gray')\n",
        "          axis[i,j].axis('off')\n",
        "          count += 1\n",
        "      plot.show()\n",
        "      plot.close()"
      ],
      "execution_count": 0,
      "outputs": []
    },
    {
      "cell_type": "code",
      "metadata": {
        "id": "T1JLWO3VLp2B",
        "colab_type": "code",
        "colab": {}
      },
      "source": [
        "train(4000, 32, 1000)"
      ],
      "execution_count": 0,
      "outputs": []
    },
    {
      "cell_type": "code",
      "metadata": {
        "id": "N1e7iDtPLyYx",
        "colab_type": "code",
        "outputId": "dee05cb7-361e-4046-c5ed-f1113002603b",
        "colab": {
          "base_uri": "https://localhost:8080/",
          "height": 295
        }
      },
      "source": [
        "plot.plot(totalDiscriminatorLossandAcc)\n",
        "plot.title('Discriminator plot (MNIST)')\n",
        "plot.xlabel('Epochs')\n",
        "plot.ylabel('Discriminator Loss and Accuracy')\n",
        "plot.legend(['Loss', 'Accuracy'])\n",
        "plot.show()"
      ],
      "execution_count": 15,
      "outputs": [
        {
          "output_type": "display_data",
          "data": {
            "image/png": "[encoded data removed]",
            "text/plain": [
              "<Figure size 432x288 with 1 Axes>"
            ]
          },
          "metadata": {
            "tags": [],
            "needs_background": "light"
          }
        }
      ]
    },
    {
      "cell_type": "code",
      "metadata": {
        "id": "Vb2ISZgQpGm4",
        "colab_type": "code",
        "outputId": "edfe49c5-8a82-482f-82ff-bc0ab0d56b30",
        "colab": {
          "base_uri": "https://localhost:8080/",
          "height": 295
        }
      },
      "source": [
        "plot.plot(generatorLoss)\n",
        "plot.title('Generator plot (MNIST)')\n",
        "plot.xlabel('Epochs')\n",
        "plot.ylabel('Generator Loss')\n",
        "plot.legend('Gen Loss')\n",
        "plot.show()"
      ],
      "execution_count": 16,
      "outputs": [
        {
          "output_type": "display_data",
          "data": {
            "image/png": "[encoded data removed]",
            "text/plain": [
              "<Figure size 432x288 with 1 Axes>"
            ]
          },
          "metadata": {
            "tags": [],
            "needs_background": "light"
          }
        }
      ]
    }
  ]
}